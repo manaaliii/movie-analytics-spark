{
 "cells": [
  {
   "cell_type": "code",
   "execution_count": 1,
   "metadata": {
    "pycharm": {
     "name": "#%%\n"
    }
   },
   "outputs": [
    {
     "name": "stdout",
     "output_type": "stream",
     "text": [
      "Requirement already satisfied: pyspark in c:\\users\\manal\\anaconda3\\envs\\yt-env\\lib\\site-packages (3.5.0)\n",
      "Requirement already satisfied: py4j==0.10.9.7 in c:\\users\\manal\\anaconda3\\envs\\yt-env\\lib\\site-packages (from pyspark) (0.10.9.7)\n"
     ]
    }
   ],
   "source": [
    "!pip install pyspark"
   ]
  },
  {
   "cell_type": "code",
   "execution_count": 90,
   "metadata": {
    "pycharm": {
     "name": "#%%\n"
    }
   },
   "outputs": [],
   "source": [
    "from pyspark.sql import SparkSession, Window\n",
    "from pyspark.sql.types import StructType, StructField, IntegerType, StringType, DoubleType, ArrayType\n",
    "from pyspark.sql.functions import split,count, explode,col,sum,dense_rank, first,rank,max,row_number\n",
    "# C:\\Users\\manal\\PycharmProject\\yt-scrap\\pySpark-Tut"
   ]
  },
  {
   "cell_type": "code",
   "execution_count": 91,
   "metadata": {},
   "outputs": [],
   "source": [
    "spark = SparkSession.builder.appName(\"tut\").getOrCreate()"
   ]
  },
  {
   "cell_type": "code",
   "execution_count": 92,
   "metadata": {},
   "outputs": [],
   "source": [
    "path = \"./files/ml-1m/\""
   ]
  },
  {
   "cell_type": "code",
   "execution_count": 93,
   "metadata": {},
   "outputs": [],
   "source": [
    "users_schema = StructType([\n",
    "    StructField(\"user_id\", IntegerType(), True),\n",
    "    StructField(\"gender\", StringType(), True),\n",
    "    StructField(\"age\", IntegerType(), True),\n",
    "    StructField(\"occupation\", IntegerType(), True),\n",
    "    StructField(\"zip_code\", IntegerType(), True),\n",
    "])\n",
    "\n",
    "movies_schema = StructType([\n",
    "    StructField(\"movie_id\", IntegerType(), True),\n",
    "    StructField(\"title\", StringType(), True),\n",
    "    StructField(\"genres\", StringType(), True)\n",
    "])\n",
    "\n",
    "ratings_schema = StructType([\n",
    "    StructField(\"user_id\", IntegerType(), True),\n",
    "    StructField(\"movie_id\", IntegerType(), True),\n",
    "    StructField(\"rating\", IntegerType(), True),\n",
    "    StructField(\"timestamp\", IntegerType(), True)\n",
    "])"
   ]
  },
  {
   "cell_type": "markdown",
   "metadata": {},
   "source": [
    "# Creating user dataframe"
   ]
  },
  {
   "cell_type": "code",
   "execution_count": 94,
   "metadata": {},
   "outputs": [],
   "source": [
    "user_df = spark.read.option(\"delimiter\", \"::\").csv(f\"{path}users.dat\", schema=users_schema)"
   ]
  },
  {
   "cell_type": "code",
   "execution_count": 95,
   "metadata": {},
   "outputs": [
    {
     "name": "stdout",
     "output_type": "stream",
     "text": [
      "+-------+------+---+----------+--------+\n",
      "|user_id|gender|age|occupation|zip_code|\n",
      "+-------+------+---+----------+--------+\n",
      "|      1|     F|  1|        10|   48067|\n",
      "|      2|     M| 56|        16|   70072|\n",
      "|      3|     M| 25|        15|   55117|\n",
      "|      4|     M| 45|         7|    2460|\n",
      "|      5|     M| 25|        20|   55455|\n",
      "|      6|     F| 50|         9|   55117|\n",
      "|      7|     M| 35|         1|    6810|\n",
      "|      8|     M| 25|        12|   11413|\n",
      "|      9|     M| 25|        17|   61614|\n",
      "|     10|     F| 35|         1|   95370|\n",
      "|     11|     F| 25|         1|    4093|\n",
      "|     12|     M| 25|        12|   32793|\n",
      "|     13|     M| 45|         1|   93304|\n",
      "|     14|     M| 35|         0|   60126|\n",
      "|     15|     M| 25|         7|   22903|\n",
      "|     16|     F| 35|         0|   20670|\n",
      "|     17|     M| 50|         1|   95350|\n",
      "|     18|     F| 18|         3|   95825|\n",
      "|     19|     M|  1|        10|   48073|\n",
      "|     20|     M| 25|        14|   55113|\n",
      "+-------+------+---+----------+--------+\n",
      "only showing top 20 rows\n",
      "\n"
     ]
    }
   ],
   "source": [
    "user_df.show()"
   ]
  },
  {
   "cell_type": "markdown",
   "metadata": {},
   "source": [
    "# Creating Movies dataframe"
   ]
  },
  {
   "cell_type": "code",
   "execution_count": 96,
   "metadata": {},
   "outputs": [],
   "source": [
    "movie_df = spark.read.option(\"delimiter\", \"::\").csv(f\"{path}movies.dat\", schema = movies_schema)"
   ]
  },
  {
   "cell_type": "code",
   "execution_count": 97,
   "metadata": {},
   "outputs": [],
   "source": [
    "movie_df = movie_df.withColumn(\"genres\", split(movie_df[\"genres\"], \"\\\\|\").cast(ArrayType(StringType())))"
   ]
  },
  {
   "cell_type": "code",
   "execution_count": 98,
   "metadata": {},
   "outputs": [
    {
     "name": "stdout",
     "output_type": "stream",
     "text": [
      "+--------+--------------------+--------------------+\n",
      "|movie_id|               title|              genres|\n",
      "+--------+--------------------+--------------------+\n",
      "|       1|    Toy Story (1995)|[Animation, Child...|\n",
      "|       2|      Jumanji (1995)|[Adventure, Child...|\n",
      "|       3|Grumpier Old Men ...|   [Comedy, Romance]|\n",
      "|       4|Waiting to Exhale...|     [Comedy, Drama]|\n",
      "|       5|Father of the Bri...|            [Comedy]|\n",
      "|       6|         Heat (1995)|[Action, Crime, T...|\n",
      "|       7|      Sabrina (1995)|   [Comedy, Romance]|\n",
      "|       8| Tom and Huck (1995)|[Adventure, Child...|\n",
      "|       9| Sudden Death (1995)|            [Action]|\n",
      "|      10|    GoldenEye (1995)|[Action, Adventur...|\n",
      "|      11|American Presiden...|[Comedy, Drama, R...|\n",
      "|      12|Dracula: Dead and...|    [Comedy, Horror]|\n",
      "|      13|        Balto (1995)|[Animation, Child...|\n",
      "|      14|        Nixon (1995)|             [Drama]|\n",
      "|      15|Cutthroat Island ...|[Action, Adventur...|\n",
      "|      16|       Casino (1995)|   [Drama, Thriller]|\n",
      "|      17|Sense and Sensibi...|    [Drama, Romance]|\n",
      "|      18|   Four Rooms (1995)|          [Thriller]|\n",
      "|      19|Ace Ventura: When...|            [Comedy]|\n",
      "|      20|  Money Train (1995)|            [Action]|\n",
      "+--------+--------------------+--------------------+\n",
      "only showing top 20 rows\n",
      "\n"
     ]
    }
   ],
   "source": [
    "movie_df.show()"
   ]
  },
  {
   "cell_type": "markdown",
   "metadata": {},
   "source": [
    "# Creating Ratings Dataframe"
   ]
  },
  {
   "cell_type": "code",
   "execution_count": 99,
   "metadata": {},
   "outputs": [],
   "source": [
    "rating_df = spark.read.option(\"delimiter\", \"::\").csv(f\"{path}ratings.dat\", schema=ratings_schema)"
   ]
  },
  {
   "cell_type": "code",
   "execution_count": 100,
   "metadata": {},
   "outputs": [
    {
     "name": "stdout",
     "output_type": "stream",
     "text": [
      "+-------+--------+------+---------+\n",
      "|user_id|movie_id|rating|timestamp|\n",
      "+-------+--------+------+---------+\n",
      "|      1|    1193|     5|978300760|\n",
      "|      1|     661|     3|978302109|\n",
      "|      1|     914|     3|978301968|\n",
      "|      1|    3408|     4|978300275|\n",
      "|      1|    2355|     5|978824291|\n",
      "|      1|    1197|     3|978302268|\n",
      "|      1|    1287|     5|978302039|\n",
      "|      1|    2804|     5|978300719|\n",
      "|      1|     594|     4|978302268|\n",
      "|      1|     919|     4|978301368|\n",
      "|      1|     595|     5|978824268|\n",
      "|      1|     938|     4|978301752|\n",
      "|      1|    2398|     4|978302281|\n",
      "|      1|    2918|     4|978302124|\n",
      "|      1|    1035|     5|978301753|\n",
      "|      1|    2791|     4|978302188|\n",
      "|      1|    2687|     3|978824268|\n",
      "|      1|    2018|     4|978301777|\n",
      "|      1|    3105|     5|978301713|\n",
      "|      1|    2797|     4|978302039|\n",
      "+-------+--------+------+---------+\n",
      "only showing top 20 rows\n",
      "\n"
     ]
    }
   ],
   "source": [
    "rating_df.show()"
   ]
  },
  {
   "cell_type": "markdown",
   "metadata": {},
   "source": [
    "\n",
    "### Movie Analytics"
   ]
  },
  {
   "cell_type": "markdown",
   "metadata": {},
   "source": [
    "#### distribution of each rating for moive"
   ]
  },
  {
   "cell_type": "code",
   "execution_count": 101,
   "metadata": {
    "scrolled": true
   },
   "outputs": [
    {
     "name": "stdout",
     "output_type": "stream",
     "text": [
      "+------------------------------------------------+---+---+---+---+---+\n",
      "|title                                           |1  |2  |3  |4  |5  |\n",
      "+------------------------------------------------+---+---+---+---+---+\n",
      "|Night of the Living Dead (1968)                 |41 |72 |171|228|203|\n",
      "|In the Heat of the Night (1967)                 |2  |7  |55 |164|120|\n",
      "|If Lucy Fell (1996)                             |5  |18 |19 |19 |7  |\n",
      "|Snow White and the Seven Dwarfs (1937)          |17 |39 |195|306|206|\n",
      "|400 Blows, The (Les Quatre cents coups) (1959)  |3  |3  |23 |60 |98 |\n",
      "|Paris, France (1993)                            |2  |0  |1  |0  |2  |\n",
      "|Psycho (1960)                                   |17 |36 |182|447|581|\n",
      "|Cosi (1996)                                     |1  |1  |5  |25 |4  |\n",
      "|Gulliver's Travels (1939)                       |4  |10 |39 |46 |18 |\n",
      "|Heavenly Creatures (1994)                       |9  |32 |104|201|131|\n",
      "|Cry in the Dark, A (1988)                       |1  |5  |22 |35 |3  |\n",
      "|7th Voyage of Sinbad, The (1958)                |6  |21 |81 |108|42 |\n",
      "|Fair Game (1995)                                |35 |28 |22 |10 |1  |\n",
      "|Saltmen of Tibet, The (1997)                    |1  |0  |1  |4  |2  |\n",
      "|Problem Child (1990)                            |68 |48 |34 |8  |2  |\n",
      "|Odd Couple II, The (1998)                       |14 |13 |20 |13 |4  |\n",
      "|Seven Beauties (Pasqualino Settebellezze) (1976)|7  |3  |12 |29 |26 |\n",
      "|Three Wishes (1995)                             |7  |6  |12 |8  |0  |\n",
      "|Blackbeard's Ghost (1968)                       |4  |12 |21 |14 |6  |\n",
      "|Buena Vista Social Club (1999)                  |5  |14 |37 |81 |93 |\n",
      "+------------------------------------------------+---+---+---+---+---+\n",
      "only showing top 20 rows\n",
      "\n"
     ]
    }
   ],
   "source": [
    "merge_df = rating_df.join(movie_df, \"movie_id\")\n",
    "\n",
    "ratings_count_per_movie = merge_df.groupBy(\"title\",\"rating\").agg(count(\"user_id\").alias(\"UserCount\"))\n",
    "\n",
    "pivoted_df = ratings_count_per_movie.groupBy(\"title\").pivot(\"rating\").sum(\"UserCount\").na.fill(0)\n",
    "\n",
    "pivoted_df.show(truncate=False)"
   ]
  },
  {
   "cell_type": "markdown",
   "metadata": {},
   "source": [
    "\n",
    "#### unique genre in movie dataset\n",
    "\n"
   ]
  },
  {
   "cell_type": "code",
   "execution_count": 102,
   "metadata": {},
   "outputs": [
    {
     "name": "stdout",
     "output_type": "stream",
     "text": [
      "+-----------+\n",
      "|col        |\n",
      "+-----------+\n",
      "|Crime      |\n",
      "|Romance    |\n",
      "|Thriller   |\n",
      "|Adventure  |\n",
      "|Children's |\n",
      "|Drama      |\n",
      "|War        |\n",
      "|Documentary|\n",
      "|Fantasy    |\n",
      "|Mystery    |\n",
      "|Musical    |\n",
      "|Animation  |\n",
      "|Film-Noir  |\n",
      "|Horror     |\n",
      "|Western    |\n",
      "|Comedy     |\n",
      "|Action     |\n",
      "|Sci-Fi     |\n",
      "+-----------+\n",
      "\n"
     ]
    }
   ],
   "source": [
    "unique_genres = movie_df.select(explode(\"genres\")).alias(\"Genre\").distinct()\n",
    "unique_genres.show(truncate=False)"
   ]
  },
  {
   "cell_type": "markdown",
   "metadata": {},
   "source": [
    "#### top 10 movies by view"
   ]
  },
  {
   "cell_type": "code",
   "execution_count": 103,
   "metadata": {},
   "outputs": [
    {
     "name": "stdout",
     "output_type": "stream",
     "text": [
      "+--------+-------+------+---------+--------------------+--------------------+\n",
      "|movie_id|user_id|rating|timestamp|               title|              genres|\n",
      "+--------+-------+------+---------+--------------------+--------------------+\n",
      "|    1193|      1|     5|978300760|One Flew Over the...|             [Drama]|\n",
      "|     661|      1|     3|978302109|James and the Gia...|[Animation, Child...|\n",
      "|     914|      1|     3|978301968| My Fair Lady (1964)|  [Musical, Romance]|\n",
      "|    3408|      1|     4|978300275|Erin Brockovich (...|             [Drama]|\n",
      "|    2355|      1|     5|978824291|Bug's Life, A (1998)|[Animation, Child...|\n",
      "|    1197|      1|     3|978302268|Princess Bride, T...|[Action, Adventur...|\n",
      "|    1287|      1|     5|978302039|      Ben-Hur (1959)|[Action, Adventur...|\n",
      "|    2804|      1|     5|978300719|Christmas Story, ...|     [Comedy, Drama]|\n",
      "|     594|      1|     4|978302268|Snow White and th...|[Animation, Child...|\n",
      "|     919|      1|     4|978301368|Wizard of Oz, The...|[Adventure, Child...|\n",
      "|     595|      1|     5|978824268|Beauty and the Be...|[Animation, Child...|\n",
      "|     938|      1|     4|978301752|         Gigi (1958)|           [Musical]|\n",
      "|    2398|      1|     4|978302281|Miracle on 34th S...|             [Drama]|\n",
      "|    2918|      1|     4|978302124|Ferris Bueller's ...|            [Comedy]|\n",
      "|    1035|      1|     5|978301753|Sound of Music, T...|           [Musical]|\n",
      "|    2791|      1|     4|978302188|    Airplane! (1980)|            [Comedy]|\n",
      "|    2687|      1|     3|978824268|       Tarzan (1999)|[Animation, Child...|\n",
      "|    2018|      1|     4|978301777|        Bambi (1942)|[Animation, Child...|\n",
      "|    3105|      1|     5|978301713|   Awakenings (1990)|             [Drama]|\n",
      "|    2797|      1|     4|978302039|          Big (1988)|   [Comedy, Fantasy]|\n",
      "+--------+-------+------+---------+--------------------+--------------------+\n",
      "only showing top 20 rows\n",
      "\n"
     ]
    }
   ],
   "source": [
    "merge_df = rating_df.join(movie_df, \"movie_id\")\n",
    "merge_df.show()"
   ]
  },
  {
   "cell_type": "code",
   "execution_count": 104,
   "metadata": {},
   "outputs": [
    {
     "name": "stdout",
     "output_type": "stream",
     "text": [
      "+------------------------------------------------+-----+\n",
      "|title                                           |views|\n",
      "+------------------------------------------------+-----+\n",
      "|Snow White and the Seven Dwarfs (1937)          |763  |\n",
      "|Night of the Living Dead (1968)                 |715  |\n",
      "|Elizabeth (1998)                                |938  |\n",
      "|7th Voyage of Sinbad, The (1958)                |258  |\n",
      "|Annie Hall (1977)                               |1334 |\n",
      "|400 Blows, The (Les Quatre cents coups) (1959)  |187  |\n",
      "|Heavenly Creatures (1994)                       |477  |\n",
      "|Psycho (1960)                                   |1263 |\n",
      "|Problem Child (1990)                            |160  |\n",
      "|If Lucy Fell (1996)                             |68   |\n",
      "|Seven Beauties (Pasqualino Settebellezze) (1976)|77   |\n",
      "|When We Were Kings (1996)                       |277  |\n",
      "|In the Heat of the Night (1967)                 |348  |\n",
      "|Gulliver's Travels (1939)                       |117  |\n",
      "|Fair Game (1995)                                |96   |\n",
      "|Cry in the Dark, A (1988)                       |66   |\n",
      "|Three Wishes (1995)                             |33   |\n",
      "|Saltmen of Tibet, The (1997)                    |8    |\n",
      "|Cosi (1996)                                     |36   |\n",
      "|Odd Couple II, The (1998)                       |64   |\n",
      "+------------------------------------------------+-----+\n",
      "only showing top 20 rows\n",
      "\n"
     ]
    }
   ],
   "source": [
    "views_each_movie = merge_df.groupBy(\"title\").agg(count(\"user_id\").alias(\"views\"))\n",
    "views_each_movie.show(truncate=False)"
   ]
  },
  {
   "cell_type": "code",
   "execution_count": 105,
   "metadata": {},
   "outputs": [
    {
     "name": "stdout",
     "output_type": "stream",
     "text": [
      "+-----------------------------------------------------+-----+\n",
      "|title                                                |views|\n",
      "+-----------------------------------------------------+-----+\n",
      "|American Beauty (1999)                               |3428 |\n",
      "|Star Wars: Episode IV - A New Hope (1977)            |2991 |\n",
      "|Star Wars: Episode V - The Empire Strikes Back (1980)|2990 |\n",
      "|Star Wars: Episode VI - Return of the Jedi (1983)    |2883 |\n",
      "|Jurassic Park (1993)                                 |2672 |\n",
      "|Saving Private Ryan (1998)                           |2653 |\n",
      "|Terminator 2: Judgment Day (1991)                    |2649 |\n",
      "|Matrix, The (1999)                                   |2590 |\n",
      "|Back to the Future (1985)                            |2583 |\n",
      "|Silence of the Lambs, The (1991)                     |2578 |\n",
      "+-----------------------------------------------------+-----+\n",
      "\n"
     ]
    }
   ],
   "source": [
    "top_viewed = views_each_movie.orderBy(col(\"views\").desc()).limit(10)\n",
    "top_viewed.show(truncate=False)"
   ]
  },
  {
   "cell_type": "markdown",
   "metadata": {},
   "source": [
    "#### total number of movies viewed by each user"
   ]
  },
  {
   "cell_type": "code",
   "execution_count": 106,
   "metadata": {},
   "outputs": [
    {
     "name": "stdout",
     "output_type": "stream",
     "text": [
      "+-------+--------+------+---------+------+---+----------+--------+\n",
      "|user_id|movie_id|rating|timestamp|gender|age|occupation|zip_code|\n",
      "+-------+--------+------+---------+------+---+----------+--------+\n",
      "|      1|    1193|     5|978300760|     F|  1|        10|   48067|\n",
      "|      1|     661|     3|978302109|     F|  1|        10|   48067|\n",
      "|      1|     914|     3|978301968|     F|  1|        10|   48067|\n",
      "|      1|    3408|     4|978300275|     F|  1|        10|   48067|\n",
      "|      1|    2355|     5|978824291|     F|  1|        10|   48067|\n",
      "|      1|    1197|     3|978302268|     F|  1|        10|   48067|\n",
      "|      1|    1287|     5|978302039|     F|  1|        10|   48067|\n",
      "|      1|    2804|     5|978300719|     F|  1|        10|   48067|\n",
      "|      1|     594|     4|978302268|     F|  1|        10|   48067|\n",
      "|      1|     919|     4|978301368|     F|  1|        10|   48067|\n",
      "|      1|     595|     5|978824268|     F|  1|        10|   48067|\n",
      "|      1|     938|     4|978301752|     F|  1|        10|   48067|\n",
      "|      1|    2398|     4|978302281|     F|  1|        10|   48067|\n",
      "|      1|    2918|     4|978302124|     F|  1|        10|   48067|\n",
      "|      1|    1035|     5|978301753|     F|  1|        10|   48067|\n",
      "|      1|    2791|     4|978302188|     F|  1|        10|   48067|\n",
      "|      1|    2687|     3|978824268|     F|  1|        10|   48067|\n",
      "|      1|    2018|     4|978301777|     F|  1|        10|   48067|\n",
      "|      1|    3105|     5|978301713|     F|  1|        10|   48067|\n",
      "|      1|    2797|     4|978302039|     F|  1|        10|   48067|\n",
      "+-------+--------+------+---------+------+---+----------+--------+\n",
      "only showing top 20 rows\n",
      "\n"
     ]
    }
   ],
   "source": [
    "merge_df = rating_df.join(user_df, \"user_id\")\n",
    "merge_df.show()"
   ]
  },
  {
   "cell_type": "code",
   "execution_count": 107,
   "metadata": {},
   "outputs": [
    {
     "name": "stdout",
     "output_type": "stream",
     "text": [
      "+-------+------------------+\n",
      "|user_id|total_viewd_movies|\n",
      "+-------+------------------+\n",
      "|148    |624               |\n",
      "|463    |123               |\n",
      "|471    |105               |\n",
      "|496    |119               |\n",
      "|833    |21                |\n",
      "|1088   |1176              |\n",
      "|243    |33                |\n",
      "|392    |487               |\n",
      "|540    |39                |\n",
      "|623    |172               |\n",
      "|737    |217               |\n",
      "|858    |190               |\n",
      "|897    |203               |\n",
      "|1025   |33                |\n",
      "|1084   |180               |\n",
      "|31     |119               |\n",
      "|516    |294               |\n",
      "|85     |39                |\n",
      "|137    |201               |\n",
      "|251    |73                |\n",
      "+-------+------------------+\n",
      "only showing top 20 rows\n",
      "\n"
     ]
    }
   ],
   "source": [
    "view_per_user = merge_df.groupBy(\"user_id\").agg(count(\"movie_id\").alias(\"total_viewd_movies\"))\n",
    "view_per_user.show(truncate=False)"
   ]
  },
  {
   "cell_type": "markdown",
   "metadata": {},
   "source": [
    "#### top users with most viewed movies count"
   ]
  },
  {
   "cell_type": "code",
   "execution_count": 108,
   "metadata": {},
   "outputs": [
    {
     "name": "stdout",
     "output_type": "stream",
     "text": [
      "+-------+------------------+\n",
      "|user_id|total_viewd_movies|\n",
      "+-------+------------------+\n",
      "|4169   |2314              |\n",
      "|1680   |1850              |\n",
      "|4277   |1743              |\n",
      "|1941   |1595              |\n",
      "|1181   |1521              |\n",
      "|889    |1518              |\n",
      "|3618   |1344              |\n",
      "|2063   |1323              |\n",
      "|1150   |1302              |\n",
      "|1015   |1286              |\n",
      "+-------+------------------+\n",
      "\n"
     ]
    }
   ],
   "source": [
    "view_per_user_des = view_per_user.orderBy(col(\"total_viewd_movies\").desc()).limit(10)\n",
    "view_per_user_des.show(truncate=False)"
   ]
  },
  {
   "cell_type": "markdown",
   "metadata": {},
   "source": [
    "#### total rating to each movie"
   ]
  },
  {
   "cell_type": "code",
   "execution_count": 109,
   "metadata": {},
   "outputs": [
    {
     "name": "stdout",
     "output_type": "stream",
     "text": [
      "+------------------------------------------------+------------+\n",
      "|title                                           |total_rating|\n",
      "+------------------------------------------------+------------+\n",
      "|Snow White and the Seven Dwarfs (1937)          |2934        |\n",
      "|Night of the Living Dead (1968)                 |2625        |\n",
      "|Elizabeth (1998)                                |3780        |\n",
      "|7th Voyage of Sinbad, The (1958)                |933         |\n",
      "|Annie Hall (1977)                               |5525        |\n",
      "|400 Blows, The (Les Quatre cents coups) (1959)  |808         |\n",
      "|Heavenly Creatures (1994)                       |1844        |\n",
      "|Psycho (1960)                                   |5328        |\n",
      "|Problem Child (1990)                            |308         |\n",
      "|If Lucy Fell (1996)                             |209         |\n",
      "|Seven Beauties (Pasqualino Settebellezze) (1976)|295         |\n",
      "|When We Were Kings (1996)                       |1197        |\n",
      "|In the Heat of the Night (1967)                 |1437        |\n",
      "|Gulliver's Travels (1939)                       |415         |\n",
      "|Fair Game (1995)                                |202         |\n",
      "|Cry in the Dark, A (1988)                       |232         |\n",
      "|Three Wishes (1995)                             |87          |\n",
      "|Saltmen of Tibet, The (1997)                    |30          |\n",
      "|Cosi (1996)                                     |138         |\n",
      "|Odd Couple II, The (1998)                       |172         |\n",
      "+------------------------------------------------+------------+\n",
      "only showing top 20 rows\n",
      "\n"
     ]
    }
   ],
   "source": [
    "merge_df = rating_df.join(movie_df,\"movie_id\")\n",
    "total_rating_df = merge_df.groupBy(\"title\").agg(sum(\"rating\").alias(\"total_rating\"))\n",
    "total_rating_df.show(truncate=False)"
   ]
  },
  {
   "cell_type": "markdown",
   "metadata": {},
   "source": [
    "#### Average rating of each movie"
   ]
  },
  {
   "cell_type": "code",
   "execution_count": 110,
   "metadata": {},
   "outputs": [
    {
     "name": "stdout",
     "output_type": "stream",
     "text": [
      "+------------------------------------------------+------------------+\n",
      "|title                                           |avg_rating        |\n",
      "+------------------------------------------------+------------------+\n",
      "|Snow White and the Seven Dwarfs (1937)          |3.8453473132372213|\n",
      "|Night of the Living Dead (1968)                 |3.6713286713286712|\n",
      "|Elizabeth (1998)                                |4.029850746268656 |\n",
      "|7th Voyage of Sinbad, The (1958)                |3.616279069767442 |\n",
      "|Annie Hall (1977)                               |4.14167916041979  |\n",
      "|400 Blows, The (Les Quatre cents coups) (1959)  |4.320855614973262 |\n",
      "|Heavenly Creatures (1994)                       |3.8658280922431865|\n",
      "|Psycho (1960)                                   |4.218527315914489 |\n",
      "|Problem Child (1990)                            |1.925             |\n",
      "|If Lucy Fell (1996)                             |3.073529411764706 |\n",
      "|Seven Beauties (Pasqualino Settebellezze) (1976)|3.831168831168831 |\n",
      "|When We Were Kings (1996)                       |4.32129963898917  |\n",
      "|In the Heat of the Night (1967)                 |4.129310344827586 |\n",
      "|Gulliver's Travels (1939)                       |3.547008547008547 |\n",
      "|Fair Game (1995)                                |2.1041666666666665|\n",
      "|Cry in the Dark, A (1988)                       |3.515151515151515 |\n",
      "|Three Wishes (1995)                             |2.6363636363636362|\n",
      "|Saltmen of Tibet, The (1997)                    |3.75              |\n",
      "|Cosi (1996)                                     |3.8333333333333335|\n",
      "|Odd Couple II, The (1998)                       |2.6875            |\n",
      "+------------------------------------------------+------------------+\n",
      "only showing top 20 rows\n",
      "\n"
     ]
    }
   ],
   "source": [
    "avg_rating_df = merge_df.groupBy(\"title\").agg((sum(\"rating\")/count(\"rating\")).alias(\"avg_rating\"))\n",
    "avg_rating_df.show(truncate=False)"
   ]
  },
  {
   "cell_type": "markdown",
   "metadata": {},
   "source": [
    "#### most viewed genres by age group"
   ]
  },
  {
   "cell_type": "code",
   "execution_count": 111,
   "metadata": {},
   "outputs": [
    {
     "name": "stdout",
     "output_type": "stream",
     "text": [
      "+-------+--------+------+---------+--------------------+--------------------+------+---+----------+--------+\n",
      "|user_id|movie_id|rating|timestamp|               title|              genres|gender|age|occupation|zip_code|\n",
      "+-------+--------+------+---------+--------------------+--------------------+------+---+----------+--------+\n",
      "|      1|    1193|     5|978300760|One Flew Over the...|             [Drama]|     F|  1|        10|   48067|\n",
      "|      1|     661|     3|978302109|James and the Gia...|[Animation, Child...|     F|  1|        10|   48067|\n",
      "|      1|     914|     3|978301968| My Fair Lady (1964)|  [Musical, Romance]|     F|  1|        10|   48067|\n",
      "|      1|    3408|     4|978300275|Erin Brockovich (...|             [Drama]|     F|  1|        10|   48067|\n",
      "|      1|    2355|     5|978824291|Bug's Life, A (1998)|[Animation, Child...|     F|  1|        10|   48067|\n",
      "|      1|    1197|     3|978302268|Princess Bride, T...|[Action, Adventur...|     F|  1|        10|   48067|\n",
      "|      1|    1287|     5|978302039|      Ben-Hur (1959)|[Action, Adventur...|     F|  1|        10|   48067|\n",
      "|      1|    2804|     5|978300719|Christmas Story, ...|     [Comedy, Drama]|     F|  1|        10|   48067|\n",
      "|      1|     594|     4|978302268|Snow White and th...|[Animation, Child...|     F|  1|        10|   48067|\n",
      "|      1|     919|     4|978301368|Wizard of Oz, The...|[Adventure, Child...|     F|  1|        10|   48067|\n",
      "|      1|     595|     5|978824268|Beauty and the Be...|[Animation, Child...|     F|  1|        10|   48067|\n",
      "|      1|     938|     4|978301752|         Gigi (1958)|           [Musical]|     F|  1|        10|   48067|\n",
      "|      1|    2398|     4|978302281|Miracle on 34th S...|             [Drama]|     F|  1|        10|   48067|\n",
      "|      1|    2918|     4|978302124|Ferris Bueller's ...|            [Comedy]|     F|  1|        10|   48067|\n",
      "|      1|    1035|     5|978301753|Sound of Music, T...|           [Musical]|     F|  1|        10|   48067|\n",
      "|      1|    2791|     4|978302188|    Airplane! (1980)|            [Comedy]|     F|  1|        10|   48067|\n",
      "|      1|    2687|     3|978824268|       Tarzan (1999)|[Animation, Child...|     F|  1|        10|   48067|\n",
      "|      1|    2018|     4|978301777|        Bambi (1942)|[Animation, Child...|     F|  1|        10|   48067|\n",
      "|      1|    3105|     5|978301713|   Awakenings (1990)|             [Drama]|     F|  1|        10|   48067|\n",
      "|      1|    2797|     4|978302039|          Big (1988)|   [Comedy, Fantasy]|     F|  1|        10|   48067|\n",
      "+-------+--------+------+---------+--------------------+--------------------+------+---+----------+--------+\n",
      "only showing top 20 rows\n",
      "\n"
     ]
    }
   ],
   "source": [
    "merge_df = rating_df.join(movie_df, \"movie_id\")\n",
    "merge_df = merge_df.join(user_df, \"user_id\")\n",
    "merge_df.show()"
   ]
  },
  {
   "cell_type": "code",
   "execution_count": 112,
   "metadata": {},
   "outputs": [
    {
     "name": "stdout",
     "output_type": "stream",
     "text": [
      "+-----------+------+\n",
      "|     genres| count|\n",
      "+-----------+------+\n",
      "|      Crime| 79541|\n",
      "|    Romance|147523|\n",
      "|   Thriller|189680|\n",
      "|  Adventure|133953|\n",
      "|      Drama|354529|\n",
      "| Children's| 72186|\n",
      "|        War| 68527|\n",
      "|Documentary|  7910|\n",
      "|    Fantasy| 36301|\n",
      "|    Mystery| 40178|\n",
      "|    Musical| 41533|\n",
      "|  Animation| 43293|\n",
      "|  Film-Noir| 18261|\n",
      "|     Horror| 76386|\n",
      "|    Western| 20683|\n",
      "|     Comedy|356580|\n",
      "|     Action|257457|\n",
      "|     Sci-Fi|157294|\n",
      "+-----------+------+\n",
      "\n"
     ]
    }
   ],
   "source": [
    "ex_df = merge_df.select(\"user_id\", explode(col(\"genres\")).alias(\"genres\"),\"age\")\n",
    "unique_genres_count = ex_df.groupBy(\"genres\").agg(count(\"*\").alias(\"count\"))\n",
    "unique_genres_count.show()"
   ]
  },
  {
   "cell_type": "code",
   "execution_count": 114,
   "metadata": {},
   "outputs": [
    {
     "name": "stdout",
     "output_type": "stream",
     "text": [
      "+---+-----------+------------+\n",
      "|age|     genres|CountOfGenre|\n",
      "+---+-----------+------------+\n",
      "| 56|     Comedy|       11961|\n",
      "| 56|      Drama|       17269|\n",
      "|  1|      Drama|        7483|\n",
      "|  1|     Comedy|       11162|\n",
      "| 45| Children's|        5400|\n",
      "| 45|        War|        6642|\n",
      "| 45|    Western|        2133|\n",
      "| 50|    Western|        2420|\n",
      "|  1|     Horror|        2211|\n",
      "| 35|   Thriller|       36840|\n",
      "| 45|      Crime|        6048|\n",
      "|  1|  Adventure|        3998|\n",
      "| 56|    Western|        1333|\n",
      "| 25|     Comedy|      143210|\n",
      "| 25|    Romance|       58003|\n",
      "| 35|     Sci-Fi|       32333|\n",
      "| 25|    Mystery|       15160|\n",
      "| 35|      Crime|       14895|\n",
      "| 56|        War|        3775|\n",
      "| 25|Documentary|        3489|\n",
      "+---+-----------+------------+\n",
      "only showing top 20 rows\n",
      "\n"
     ]
    }
   ],
   "source": [
    "age_genres = ex_df.groupBy(\"age\", \"genres\").agg(count(\"genres\").alias(\"CountOfGenre\"))\n",
    "age_genres.show()"
   ]
  },
  {
   "cell_type": "code",
   "execution_count": 115,
   "metadata": {},
   "outputs": [
    {
     "name": "stdout",
     "output_type": "stream",
     "text": [
      "+---+------+------------+\n",
      "|age|genres|CountOfGenre|\n",
      "+---+------+------------+\n",
      "|  1|Comedy|       11162|\n",
      "| 18|Comedy|       69980|\n",
      "| 25|Comedy|      143210|\n",
      "| 35| Drama|       71590|\n",
      "| 45| Drama|       32141|\n",
      "| 50| Drama|       29247|\n",
      "| 56| Drama|       17269|\n",
      "+---+------+------------+\n",
      "\n"
     ]
    }
   ],
   "source": [
    "window_spec = Window.partitionBy(\"age\").orderBy(col(\"CountOfGenre\").desc())\n",
    "\n",
    "top_genre_by_age = age_genres.withColumn(\"row_num\", row_number().over(window_spec))\n",
    "\n",
    "top_genre_by_age = top_genre_by_age.filter(col(\"row_num\") == 1).drop(\"row_num\")\n",
    "top_genre_by_age.show()"
   ]
  },
  {
   "cell_type": "markdown",
   "metadata": {},
   "source": [
    "#### Most viewed genres by gender"
   ]
  },
  {
   "cell_type": "code",
   "execution_count": 116,
   "metadata": {},
   "outputs": [
    {
     "name": "stdout",
     "output_type": "stream",
     "text": [
      "+------+-----------+------------+\n",
      "|gender|     genres|CountOfGenre|\n",
      "+------+-----------+------------+\n",
      "|     F|     Comedy|       96271|\n",
      "|     M|     Horror|       61751|\n",
      "|     M|    Romance|       97226|\n",
      "|     M|   Thriller|      149372|\n",
      "|     F|    Romance|       50297|\n",
      "|     F|    Fantasy|        8718|\n",
      "|     M|Documentary|        5970|\n",
      "|     M|    Fantasy|       27583|\n",
      "|     F| Children's|       21317|\n",
      "|     F|    Musical|       13505|\n",
      "|     F|   Thriller|       40308|\n",
      "|     M|    Western|       17206|\n",
      "|     M|     Sci-Fi|      129894|\n",
      "|     F|    Western|        3477|\n",
      "|     F|  Film-Noir|        4202|\n",
      "|     F|     Sci-Fi|       27400|\n",
      "|     F|  Adventure|       27332|\n",
      "|     F|        War|       14093|\n",
      "|     F|    Mystery|        9976|\n",
      "|     F|     Action|       45650|\n",
      "+------+-----------+------------+\n",
      "only showing top 20 rows\n",
      "\n"
     ]
    }
   ],
   "source": [
    "ex_df = merge_df.select(\"user_id\", \"gender\", explode(\"genres\").alias(\"genres\"))\n",
    "gender_genres = ex_df.groupBy(\"gender\", \"genres\").agg(count(\"*\").alias(\"CountOfGenre\"))\n",
    "gender_genres.show()"
   ]
  },
  {
   "cell_type": "code",
   "execution_count": 117,
   "metadata": {},
   "outputs": [
    {
     "name": "stdout",
     "output_type": "stream",
     "text": [
      "+------+------+------------+\n",
      "|gender|genres|CountOfGenre|\n",
      "+------+------+------------+\n",
      "|     F| Drama|       98153|\n",
      "|     M|Comedy|      260309|\n",
      "+------+------+------------+\n",
      "\n"
     ]
    }
   ],
   "source": [
    "x = Window.partitionBy(\"gender\").orderBy(col(\"CountOfGenre\").desc())\n",
    "top_genre_by_gender = ts.withColumn(\"row_num\", row_number().over(x))\n",
    "top_genre_by_gender =top_genre_by_gender.filter(col(\"row_num\")==1).drop(\"row_num\")\n",
    "top_genre_by_gender.show()"
   ]
  },
  {
   "cell_type": "markdown",
   "metadata": {},
   "source": [
    "### Movie Recommendation"
   ]
  },
  {
   "cell_type": "code",
   "execution_count": 118,
   "metadata": {},
   "outputs": [],
   "source": [
    "from pyspark.ml.recommendation import ALS\n",
    "from pyspark.ml.feature import StringIndexer\n",
    "from pyspark.ml.evaluation import RegressionEvaluator"
   ]
  },
  {
   "cell_type": "code",
   "execution_count": 119,
   "metadata": {},
   "outputs": [],
   "source": [
    "user_indexer = StringIndexer(inputCol=\"user_id\", outputCol=\"user_index\")\n",
    "movie_indexer = StringIndexer(inputCol=\"movie_id\", outputCol=\"movie_index\")\n",
    "_rating_df = user_indexer.fit(rating_df).transform(rating_df)\n",
    "_rating_df = movie_indexer.fit(_rating_df).transform(_rating_df)\n",
    "(training, test) = _rating_df.randomSplit([0.7, 0.3])\n",
    "\n",
    "als = ALS(maxIter=5, regParam=0.01, userCol=\"user_index\", itemCol=\"movie_index\", ratingCol=\"rating\", coldStartStrategy=\"drop\")\n",
    "model = als.fit(training)"
   ]
  },
  {
   "cell_type": "code",
   "execution_count": 120,
   "metadata": {},
   "outputs": [
    {
     "name": "stdout",
     "output_type": "stream",
     "text": [
      "Root Mean Squared Error (RMSE) = 0.9120549139285303\n"
     ]
    }
   ],
   "source": [
    "predictions = model.transform(test)\n",
    "evaluator = RegressionEvaluator(metricName=\"rmse\", labelCol=\"rating\", predictionCol=\"prediction\")\n",
    "rmse = evaluator.evaluate(predictions)\n",
    "print(f\"Root Mean Squared Error (RMSE) = {rmse}\")"
   ]
  },
  {
   "cell_type": "code",
   "execution_count": 121,
   "metadata": {},
   "outputs": [
    {
     "name": "stdout",
     "output_type": "stream",
     "text": [
      "+------------------------------+----------+\n",
      "|movie_index                   |user_index|\n",
      "+------------------------------+----------+\n",
      "|[3160, 3220, 2810, 3392, 3570]|3         |\n",
      "+------------------------------+----------+\n",
      "\n"
     ]
    }
   ],
   "source": [
    "userRecs = model.recommendForAllUsers(5)\n",
    "userId_to_recommend = 3\n",
    "\n",
    "user_recommendations = userRecs.filter(userRecs.user_index == userId_to_recommend).select(\"recommendations.movie_index\",\"user_index\")\n",
    "user_recommendations.show(truncate=False)"
   ]
  },
  {
   "cell_type": "code",
   "execution_count": 122,
   "metadata": {},
   "outputs": [
    {
     "name": "stdout",
     "output_type": "stream",
     "text": [
      "+----------+--------------------------+\n",
      "|user_index|title                     |\n",
      "+----------+--------------------------+\n",
      "|3         |Magnolia (1999)           |\n",
      "|3         |Night Tide (1961)         |\n",
      "|3         |Perfect Blue (1997)       |\n",
      "|3         |She-Devil (1989)          |\n",
      "|3         |Last September, The (1999)|\n",
      "+----------+--------------------------+\n",
      "\n"
     ]
    }
   ],
   "source": [
    "user_recommendations_exploded = user_recommendations.select(\n",
    "    col(\"user_index\"),\n",
    "    explode(\"movie_index\").alias(\"movie_index\")\n",
    ")\n",
    "    \n",
    "user_recommendations_with_movie_ids = user_recommendations_exploded.join(\n",
    "    movie_df,\n",
    "    user_recommendations_exploded.movie_index == movie_df.movie_id,\n",
    ").select(\n",
    "    \"user_index\",\n",
    "    \"title\"\n",
    ")\n",
    "user_recommendations_with_movie_ids.show(truncate=False)"
   ]
  },
  {
   "cell_type": "code",
   "execution_count": null,
   "metadata": {},
   "outputs": [],
   "source": []
  }
 ],
 "metadata": {
  "kernelspec": {
   "display_name": "Python 3 (ipykernel)",
   "language": "python",
   "name": "python3"
  },
  "language_info": {
   "codemirror_mode": {
    "name": "ipython",
    "version": 3
   },
   "file_extension": ".py",
   "mimetype": "text/x-python",
   "name": "python",
   "nbconvert_exporter": "python",
   "pygments_lexer": "ipython3",
   "version": "3.9.17"
  }
 },
 "nbformat": 4,
 "nbformat_minor": 1
}
